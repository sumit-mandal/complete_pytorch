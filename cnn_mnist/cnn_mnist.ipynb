{
 "cells": [
  {
   "cell_type": "code",
   "execution_count": 1,
   "id": "d1673db3-e07b-4762-97a5-0401d65629f7",
   "metadata": {},
   "outputs": [
    {
     "name": "stderr",
     "output_type": "stream",
     "text": [
      "/home/sumit/anaconda3/envs/torch_gpu/lib/python3.9/site-packages/tqdm/auto.py:22: TqdmWarning: IProgress not found. Please update jupyter and ipywidgets. See https://ipywidgets.readthedocs.io/en/stable/user_install.html\n",
      "  from .autonotebook import tqdm as notebook_tqdm\n"
     ]
    }
   ],
   "source": [
    "import torch\n",
    "import torch.nn as nn\n",
    "import torchvision.transforms as transforms\n",
    "import torchvision.datasets as datasets\n"
   ]
  },
  {
   "cell_type": "code",
   "execution_count": 2,
   "id": "efce9da9-8a91-43fe-873f-a05b3e24ce2f",
   "metadata": {},
   "outputs": [],
   "source": [
    "mean_gray = 0.1307\n",
    "stddev_gray = 0.3081\n",
    "\n",
    "# Convert image to tensor\n",
    "# input[channel] = (input[channel]-mean[channel])/ std[channel]\n",
    "transforms = transforms.Compose([transforms.ToTensor(),\n",
    "                                transforms.Normalize((mean_gray,),(stddev_gray))])\n",
    "\n",
    "\n",
    "\n",
    "train_dataset = datasets.MNIST(root = './data',train = True, transform = transforms,download=True)\n",
    "test_dataset = datasets.MNIST(root = './data',train = False, transform = transforms)\n"
   ]
  },
  {
   "cell_type": "code",
   "execution_count": 3,
   "id": "abe5a24e-76e2-4043-a066-14a6bf312874",
   "metadata": {},
   "outputs": [
    {
     "data": {
      "text/plain": [
       "<matplotlib.image.AxesImage at 0x7f9390a09f70>"
      ]
     },
     "execution_count": 3,
     "metadata": {},
     "output_type": "execute_result"
    },
    {
     "data": {
      "image/png": "[encoded data removed]",
      "text/plain": [
       "<Figure size 640x480 with 1 Axes>"
      ]
     },
     "metadata": {},
     "output_type": "display_data"
    }
   ],
   "source": [
    "import matplotlib.pyplot as plt\n",
    "# Denormalize image to visualize it\n",
    "random_img = train_dataset[21][0].numpy() * stddev_gray + mean_gray\n",
    "plt.imshow(random_img.reshape(28,28),cmap='gray')"
   ]
  },
  {
   "cell_type": "code",
   "execution_count": 4,
   "id": "d9b561b6-2d19-43ed-a10e-0d514be37ba1",
   "metadata": {},
   "outputs": [
    {
     "data": {
      "text/plain": [
       "4"
      ]
     },
     "execution_count": 4,
     "metadata": {},
     "output_type": "execute_result"
    }
   ],
   "source": [
    "train_dataset[20][1]"
   ]
  },
  {
   "cell_type": "code",
   "execution_count": 5,
   "id": "1515fede-94bd-40b9-92d9-9a141da95e0b",
   "metadata": {},
   "outputs": [],
   "source": [
    "batch_size = 100\n",
    "train_load = torch.utils.data.DataLoader(dataset = train_dataset,\n",
    "                                        batch_size = batch_size,\n",
    "                                        shuffle = True)\n",
    "\n",
    "test_load = torch.utils.data.DataLoader(dataset = test_dataset,\n",
    "                                       batch_size = batch_size,\n",
    "                                       shuffle = False)"
   ]
  },
  {
   "cell_type": "code",
   "execution_count": 6,
   "id": "731f8b49-6c6b-4bd1-a207-f80daeb7f0bd",
   "metadata": {},
   "outputs": [
    {
     "name": "stdout",
     "output_type": "stream",
     "text": [
      "60000\n",
      "10000\n"
     ]
    }
   ],
   "source": [
    "print(len(train_dataset))\n",
    "print(len(test_dataset))"
   ]
  },
  {
   "cell_type": "code",
   "execution_count": 7,
   "id": "a826ebe3-be08-4fcd-90d1-d82d4d0a5009",
   "metadata": {},
   "outputs": [
    {
     "name": "stdout",
     "output_type": "stream",
     "text": [
      "600\n"
     ]
    }
   ],
   "source": [
    "print(len(train_load))"
   ]
  },
  {
   "cell_type": "code",
   "execution_count": 8,
   "id": "8568514b-7e03-4edb-823c-46322fb3af4c",
   "metadata": {},
   "outputs": [],
   "source": [
    "class CNN(nn.Module):\n",
    "    def __init__(self):\n",
    "        super(CNN,self).__init__()\n",
    "        # same padding = (filter_size-1)/2 --> (3-1)/2 = 1\n",
    "        self.cnn1 = nn.Conv2d(in_channels = 1, out_channels = 8, kernel_size = 3,stride = 1, padding = 1)\n",
    "        # The output size of each of the 8 features maps\n",
    "        # [(input_size - filter_size + 2(padding))/stride+1] = (28-3+2)1+1 = 28\n",
    "        self.batchnorm1 = nn.BatchNorm2d(8)\n",
    "        self.relu = nn.ReLU()\n",
    "        self.maxpool = nn.MaxPool2d(kernel_size = 2)\n",
    "        # the output size = 28/12 = 14\n",
    "        # Same padding = (5-1)/2\n",
    "        self.cnn2 = nn.Conv2d(in_channels = 8, out_channels = 32,kernel_size = 5, stride = 1,padding = 2)\n",
    "        # Output size of each of 32 feature maps\n",
    "        #[(input_size - filter_size + 2(padding))/stride +1] \n",
    "        # (14 - 5 +4)/1 + 1 = 14\n",
    "        \n",
    "        # Flatten the 32 feature maps: 7*7*32 = 1568\n",
    "        self.batchnorm2 = nn.BatchNorm2d(32)\n",
    "        self.fc1 = nn.Linear(1568,600)\n",
    "        self.dropout = nn.Dropout(p = 0.5)\n",
    "        self.fc2 = nn.Linear(600,10)\n",
    "        \n",
    "    def forward(self,x):\n",
    "        out = self.cnn1(x)\n",
    "        out = self.batchnorm1(out)\n",
    "        out = self.relu(out)\n",
    "        out = self.maxpool(out)\n",
    "        out = self.cnn2(out)\n",
    "        out = self.batchnorm2(out)\n",
    "        out = self.relu(out)\n",
    "        out = self.maxpool(out)\n",
    "        # Flatten the 32 feature maps from max Pool to feed it to the FC1(100,1568)\n",
    "        out = out.view(-1,1568)\n",
    "        \n",
    "        # Forwarding through fully connected layer\n",
    "        out = self.fc1(out)\n",
    "        out = self.relu(out)\n",
    "        out = self.dropout(out)\n",
    "        out = self.fc2(out)\n",
    "        \n",
    "        return out\n",
    "        "
   ]
  },
  {
   "cell_type": "code",
   "execution_count": 9,
   "id": "f4ecd9fb-2ef5-4276-b331-c61c68a654b2",
   "metadata": {},
   "outputs": [],
   "source": [
    "model = CNN()\n",
    "CUDA = torch.cuda.is_available()\n",
    "if CUDA:\n",
    "    model = model.cuda()\n",
    "    \n",
    "loss_fn = nn.CrossEntropyLoss()\n",
    "optimizer = torch.optim.Adam(model.parameters(),lr=0.01)"
   ]
  },
  {
   "cell_type": "code",
   "execution_count": null,
   "id": "5ecedc3c-e4f6-4c0a-9a71-30d9a291c230",
   "metadata": {},
   "outputs": [],
   "source": []
  },
  {
   "cell_type": "code",
   "execution_count": 10,
   "id": "8d980bc6-8847-4ccb-96b5-629b5b70eec0",
   "metadata": {},
   "outputs": [
    {
     "name": "stdout",
     "output_type": "stream",
     "text": [
      "Epoch 1/10, Training Loss: 0.698, Training Accuracy: 79.693, Testing Loss: 0.069, Testing Accuracy: 97.880\n",
      "Epoch 2/10, Training Loss: 0.183, Training Accuracy: 94.430, Testing Loss: 0.060, Testing Accuracy: 98.230\n",
      "Epoch 3/10, Training Loss: 0.118, Training Accuracy: 96.622, Testing Loss: 0.037, Testing Accuracy: 98.790\n",
      "Epoch 4/10, Training Loss: 0.094, Training Accuracy: 97.362, Testing Loss: 0.036, Testing Accuracy: 98.840\n",
      "Epoch 5/10, Training Loss: 0.080, Training Accuracy: 97.680, Testing Loss: 0.040, Testing Accuracy: 98.890\n",
      "Epoch 6/10, Training Loss: 0.076, Training Accuracy: 97.752, Testing Loss: 0.053, Testing Accuracy: 98.670\n",
      "Epoch 7/10, Training Loss: 0.069, Training Accuracy: 98.060, Testing Loss: 0.042, Testing Accuracy: 98.850\n",
      "Epoch 8/10, Training Loss: 0.059, Training Accuracy: 98.250, Testing Loss: 0.046, Testing Accuracy: 98.790\n",
      "Epoch 9/10, Training Loss: 0.063, Training Accuracy: 98.212, Testing Loss: 0.053, Testing Accuracy: 98.750\n",
      "Epoch 10/10, Training Loss: 0.061, Training Accuracy: 98.245, Testing Loss: 0.036, Testing Accuracy: 99.020\n"
     ]
    }
   ],
   "source": [
    "### Training the CNN\n",
    "num_epochs = 10\n",
    "train_loss = []\n",
    "train_accuracy = []\n",
    "test_loss1 = []\n",
    "test_accuracy = []\n",
    "\n",
    "\n",
    "\n",
    "for epoch in range(num_epochs):\n",
    "    correct = 0\n",
    "    iterations = 0\n",
    "    iter_loss = 0.0\n",
    "    \n",
    "    model.train()\n",
    "    \n",
    "    for i,(inputs,labels) in enumerate (train_load):\n",
    "        \n",
    "        if CUDA:\n",
    "            inputs = inputs.cuda()\n",
    "            labels = labels.cuda()\n",
    "        \n",
    "            \n",
    "        outputs = model(inputs)\n",
    "        \n",
    "        # calculate loss\n",
    "        loss = loss_fn(outputs,labels)\n",
    "        iter_loss += loss.item()\n",
    "        \n",
    "        optimizer.zero_grad() # w <-- w - lr*gradient\n",
    "        loss.backward()\n",
    "        optimizer.step()\n",
    "        \n",
    "        # Maximum of predictions\n",
    "        _,predicted = torch.max(outputs,1)\n",
    "        correct += (predicted == labels).sum().item()\n",
    "        iterations += 1\n",
    "    \n",
    "    train_loss.append(iter_loss/iterations)\n",
    "    train_accuracy.append(100*correct/len(train_dataset))\n",
    "        \n",
    "    # Testing phase\n",
    "    test_loss = 0.0\n",
    "    correct = 0.0\n",
    "    iterations = 0.0\n",
    "    \n",
    "    model.eval()\n",
    "    \n",
    "    \n",
    "    for i,(inputs,labels) in enumerate(test_load):\n",
    "        if CUDA:\n",
    "            inputs = inputs.cuda()\n",
    "            labels = labels.cuda()\n",
    "        \n",
    "            \n",
    "        outputs = model(inputs)\n",
    "        loss = loss_fn(outputs,labels)\n",
    "        test_loss += loss.item()\n",
    "        \n",
    "        _,predicted = torch.max(outputs,1)\n",
    "        correct += (predicted == labels).sum().item()\n",
    "        iterations +=1 \n",
    "        \n",
    "    test_loss1.append(test_loss/iterations)\n",
    "    test_accuracy.append((100*correct / len(test_dataset)))\n",
    "    \n",
    "    print(\"Epoch {}/{}, Training Loss: {:.3f}, Training Accuracy: {:.3f}, Testing Loss: {:.3f}, Testing Accuracy: {:.3f}\".format(\n",
    "    epoch+1,num_epochs,train_loss[-1],train_accuracy[-1],test_loss1[-1],test_accuracy[-1]))"
   ]
  },
  {
   "cell_type": "code",
   "execution_count": 19,
   "id": "4ab535f2-c07e-4074-af92-2acefd623b68",
   "metadata": {},
   "outputs": [
    {
     "data": {
      "image/png": "[encoded data removed]",
      "text/plain": [
       "<Figure size 1000x1000 with 1 Axes>"
      ]
     },
     "metadata": {},
     "output_type": "display_data"
    }
   ],
   "source": [
    "# Plotting the loss\n",
    "f = plt.figure(figsize=(10,10))\n",
    "plt.plot(train_loss,label = 'Training Loss')\n",
    "plt.plot(test_loss1,label = 'Testing Loss')\n",
    "plt.legend()\n",
    "plt.show()"
   ]
  },
  {
   "cell_type": "code",
   "execution_count": 18,
   "id": "c45dbb44-73ff-478b-85ad-8b6feb8e0c12",
   "metadata": {},
   "outputs": [
    {
     "data": {
      "image/png": "[encoded data removed]",
      "text/plain": [
       "<Figure size 1000x1000 with 1 Axes>"
      ]
     },
     "metadata": {},
     "output_type": "display_data"
    }
   ],
   "source": [
    "# Plot the accuracy\n",
    "f = plt.figure(figsize=(10,10))\n",
    "plt.plot(train_accuracy,label='Train Accuracy')\n",
    "plt.plot(test_accuracy,label='Test Accuracy')\n",
    "plt.legend()\n",
    "plt.show()"
   ]
  },
  {
   "cell_type": "code",
   "execution_count": 23,
   "id": "ebc89688-085d-47cd-9ec1-4cd92c5f0aa0",
   "metadata": {},
   "outputs": [
    {
     "name": "stdout",
     "output_type": "stream",
     "text": [
      "prediction is 3\n",
      "Actual is : 3\n"
     ]
    }
   ],
   "source": [
    "img = test_dataset[30][0].resize_(1,1,28,28)\n",
    "label = test_dataset[30][1]\n",
    "\n",
    "model.eval()\n",
    "\n",
    "if CUDA:\n",
    "    model = model.cuda()\n",
    "    img = img.cuda()\n",
    "    \n",
    "outputs = model(img)\n",
    "_,predicted = torch.max(outputs,1)\n",
    "print(f'prediction is {predicted.item()}')\n",
    "print(f'Actual is : {label}')"
   ]
  },
  {
   "cell_type": "code",
   "execution_count": 26,
   "id": "340bade6-a64a-49be-86c0-10268fbf660a",
   "metadata": {},
   "outputs": [
    {
     "data": {
      "text/plain": [
       "<All keys matched successfully>"
      ]
     },
     "execution_count": 26,
     "metadata": {},
     "output_type": "execute_result"
    }
   ],
   "source": [
    "#Run this if you want to save the model\n",
    "torch.save(model.state_dict(),'CNN_MNIST.pth')\n",
    "\n",
    "#Run this if you want to load the model\n",
    "model.load_state_dict(torch.load('CNN_MNIST.pth'))"
   ]
  },
  {
   "cell_type": "code",
   "execution_count": 38,
   "id": "019fb4f5-e42c-4305-87f3-46fcfd522bf1",
   "metadata": {},
   "outputs": [],
   "source": [
    "import torchvision.transforms as transforms\n",
    "import cv2\n",
    "from PIL import Image\n",
    "from torch.autograd import Variable\n",
    "transforms_photo = transforms.Compose([transforms.Resize((28,28)),\n",
    "                                       transforms.ToTensor(),\n",
    "                                       transforms.Normalize((mean_gray,), (stddev_gray,))])\n"
   ]
  },
  {
   "cell_type": "code",
   "execution_count": 39,
   "id": "38372d3a-47d8-44d6-ac2f-98ffbda23660",
   "metadata": {},
   "outputs": [],
   "source": [
    "def predict(img_name,model):\n",
    "    image = cv2.imread(img_name,0)\n",
    "    ret,thresholded = cv2.threshold(image,127,255,cv2.THRESH_BINARY)\n",
    "    img = 255 - thresholded\n",
    "    cv2.imshow('original',img)\n",
    "    cv2.waitKey(0)\n",
    "    cv2.destroyAllWindows()\n",
    "    \n",
    "    img = Image.fromarray(img)\n",
    "    img = transforms_photo(img)\n",
    "    img = img.view(1,1,28,28)\n",
    "    img = Variable(img)\n",
    "    \n",
    "    model.eval()\n",
    "    \n",
    "    if torch.cuda.is_available():\n",
    "        model = model.cuda()\n",
    "        img = img.cuda()\n",
    "\n",
    "    output = model(img)\n",
    "    print(output)\n",
    "    print(output.data)\n",
    "    _, predicted = torch.max(output,1)\n",
    "    return  predicted.item()"
   ]
  },
  {
   "cell_type": "code",
   "execution_count": 40,
   "id": "69217eb8-e410-4c2e-9cb8-02ad36f60c6a",
   "metadata": {},
   "outputs": [
    {
     "name": "stdout",
     "output_type": "stream",
     "text": [
      "tensor([[ 2.1890, -3.4013, -1.1489,  1.6393, -3.7708, -3.8137, -6.1720,  2.6392,\n",
      "         -2.2378,  0.0137]], device='cuda:0', grad_fn=<AddmmBackward0>)\n",
      "tensor([[ 2.1890, -3.4013, -1.1489,  1.6393, -3.7708, -3.8137, -6.1720,  2.6392,\n",
      "         -2.2378,  0.0137]], device='cuda:0')\n",
      "The Predicted Label is 7\n"
     ]
    }
   ],
   "source": [
    "pred = predict('3.jpg', model)\n",
    "print(\"The Predicted Label is {}\".format(pred))"
   ]
  },
  {
   "cell_type": "code",
   "execution_count": null,
   "id": "4d1fdcea-bbe5-4887-a4e7-b5ce495d32df",
   "metadata": {},
   "outputs": [],
   "source": []
  },
  {
   "cell_type": "code",
   "execution_count": null,
   "id": "1315cef9-0c89-4272-81b8-dd7dbc12721a",
   "metadata": {},
   "outputs": [],
   "source": []
  },
  {
   "cell_type": "code",
   "execution_count": null,
   "id": "7cc3c9b2-dbe3-44e7-88df-45c56f0b390f",
   "metadata": {},
   "outputs": [],
   "source": []
  }
 ],
 "metadata": {
  "kernelspec": {
   "display_name": "Python [conda env:torch_gpu]",
   "language": "python",
   "name": "conda-env-torch_gpu-py"
  },
  "language_info": {
   "codemirror_mode": {
    "name": "ipython",
    "version": 3
   },
   "file_extension": ".py",
   "mimetype": "text/x-python",
   "name": "python",
   "nbconvert_exporter": "python",
   "pygments_lexer": "ipython3",
   "version": "3.9.15"
  }
 },
 "nbformat": 4,
 "nbformat_minor": 5
}
